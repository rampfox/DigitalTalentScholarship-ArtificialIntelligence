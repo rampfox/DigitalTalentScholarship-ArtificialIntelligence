{
 "cells": [
  {
   "cell_type": "code",
   "execution_count": 1,
   "metadata": {},
   "outputs": [],
   "source": [
    "import os\n",
    "import cv2\n",
    "import numpy as np"
   ]
  },
  {
   "cell_type": "code",
   "execution_count": 2,
   "metadata": {},
   "outputs": [],
   "source": [
    "#Label untuk kelas image\n",
    "subjects = [\"\",\"Female\",\"Male\"]"
   ]
  },
  {
   "cell_type": "code",
   "execution_count": 3,
   "metadata": {},
   "outputs": [],
   "source": [
    "#fungsi untuk mendeteksi wajah menggunakan openCV\n",
    "def detect_face(img):\n",
    "    gray = cv2.cvtColor(img, cv2.COLOR_BGR2GRAY)#konversi gambar dari RGB to Greyscale\n",
    "    #mengakses file .xml untuk metode LBP pada oprenCV\n",
    "    face_cascade = cv2.CascadeClassifier('/Users/Alwi/Desktop/DIP/Fisher face/lbpcascade_frontalface.xml')\n",
    "    #mendeteksi multiscale image hasil keluaran berupa wajah yang terdeteksi\n",
    "    faces = face_cascade.detectMultiScale(gray, scaleFactor=1.2, minNeighbors=5);\n",
    "    #if no faces are detected then return original img\n",
    "    if (len(faces) == 0): #jika pada gambar tidak terdeteksi bentuk wajah maka return \"none\" \n",
    "        return None, None\n",
    "    x, y, w, h = faces[0] #mengekstrak area dari wajah\n",
    "    return gray[y:y+h, x:x+w] , faces[0] #yang diambil dari gambar hanyalah wajah "
   ]
  },
  {
   "cell_type": "code",
   "execution_count": 4,
   "metadata": {},
   "outputs": [],
   "source": [
    "def prepare_training_data(data_folder_path): #fungsi untuk mempersiapkan training data\n",
    "    folder1 = os.listdir(data_folder_path) #mengakses folder yg berisi dataset training\n",
    "    faces = [] #list face\n",
    "    labels = [] #list label\n",
    "     #mengakses gambar-gambar yg ada pada folder\n",
    "    for dirs in folder1: \n",
    "        if dirs.startswith(\"f\") or dirs.startswith(\"m\"):\n",
    "            if dirs == \"female\" :\n",
    "                label = 1\n",
    "            else:\n",
    "                label = 2\n",
    "            dir_path = data_folder_path + \"/\" + dirs\n",
    "            folder2 = os.listdir (dir_path)\n",
    "            for dir_name in folder2: \n",
    "                subject_dir_path = data_folder_path + \"/\" + dirs + \"/\" + dir_name\n",
    "                subject_images_names = os.listdir(subject_dir_path)\n",
    "                for image_name in subject_images_names:\n",
    "                    if image_name.startswith(\".\"):\n",
    "                        continue;\n",
    "        #image path = training-data/s1/jokowi1.jpg\n",
    "                    image_path = subject_dir_path + \"/\" + image_name\n",
    "\n",
    "        #membuka gambar sesuai image_path\n",
    "                    image = cv2.imread(image_path)\n",
    "\n",
    "        #menampilkan gambar\n",
    "                    cv2.imshow(\"Training on image...\", image)\n",
    "                    cv2.waitKey(100)\n",
    "\n",
    "        #memanggil fungsi deteksi wajah\n",
    "                    face, rect = detect_face(image)\n",
    "        \n",
    "                    if face is not None: \n",
    "                        faceresize = cv2.resize(face, (100, 100)) #resize gambar training\n",
    "            #membuat array face dan label\n",
    "                        faces.append(faceresize)\n",
    "                        labels.append(label)\n",
    "        else:\n",
    "            continue;\n",
    "    #menutup jendela yg kebuka pada saat fungsi persiapan training data berjalan\n",
    "    cv2.destroyAllWindows()\n",
    "    cv2.waitKey(1)\n",
    "    cv2.destroyAllWindows()\n",
    " \n",
    "    return faces, labels"
   ]
  },
  {
   "cell_type": "code",
   "execution_count": 5,
   "metadata": {},
   "outputs": [],
   "source": [
    "def draw_rectangle(img, rect): #membuat bound box bentuk segiempat pada muka yg terdeteksi\n",
    "    (x, y, w, h) = rect\n",
    "    cv2.rectangle(img, (x, y), (x+w, y+h), (0, 255, 0), 2)\n",
    "\n",
    "def draw_text(img, text, x, y): #menampilkan text label pada muka yg terdeteksi sesuai posisi (x,y)\n",
    "    cv2.putText(img, text, (x, y), cv2.FONT_HERSHEY_PLAIN, 1.5, (0, 255, 0), 2)"
   ]
  },
  {
   "cell_type": "code",
   "execution_count": 6,
   "metadata": {
    "scrolled": true
   },
   "outputs": [
    {
     "name": "stdout",
     "output_type": "stream",
     "text": [
      "Preparing data...\n",
      "Data prepared\n",
      "Total faces:  709\n",
      "Total labels:  709\n"
     ]
    }
   ],
   "source": [
    "#Proses Training Data. list labels dan faces punya ukuran yg sama, list face berisi wajah, list labels berupa nama kelas\n",
    "print(\"Preparing data...\")\n",
    "faces, labels = prepare_training_data(\"Data-Training\") #memanggil fungsi untuk mempersiapkan data\n",
    "print(\"Data prepared\")\n",
    " \n",
    "#melihat jumlah face dan label pada training data\n",
    "print(\"Total faces: \", len(faces))\n",
    "print(\"Total labels: \", len(labels))\n",
    "face_recognizer =  cv2.face.EigenFaceRecognizer_create() #melakukan face recognition menggunakan metode fisherface\n",
    "face_recognizer.train(faces, np.array(labels))"
   ]
  },
  {
   "cell_type": "code",
   "execution_count": 7,
   "metadata": {},
   "outputs": [],
   "source": [
    "def testing(image):\n",
    "    img = image.copy() #copy gambar agar gambar asli tidak berubah\n",
    "    #mendeteksi wajah\n",
    "    face, rect = detect_face(img)\n",
    "    face = cv2.resize(face, (100, 100)) #resize gambar agar sesuai dengan size gambar pada training data \n",
    "    label= face_recognizer.predict(face) #prediksi wajah yang terdeteksi masuk kedalam subject jokowi/prabowo\n",
    "    print(label)\n",
    "    label_text = subjects[label[0]]#mengakses array subjects untuk mendapat label text dari wajah yg sudah terprediksi\n",
    "    print (\"Subject pada gambar adalah\\n\"+label_text)\n",
    "    draw_rectangle(img, rect)#drawing bound pada wajah yang terdeteksi\n",
    "    draw_text(img, label_text, rect[0], rect[1]-5) #draw label text pada wajah yang terdeteksi\n",
    "    return img, label_text"
   ]
  },
  {
   "cell_type": "code",
   "execution_count": null,
   "metadata": {},
   "outputs": [
    {
     "name": "stdout",
     "output_type": "stream",
     "text": [
      "Testing...\n",
      "Result:\n",
      "(1, 0.0)\n",
      "Subject pada gambar adalah\n",
      "Female\n",
      "(2, 6006.810665676225)\n",
      "Subject pada gambar adalah\n",
      "Male\n",
      "(2, 4477.687590210731)\n",
      "Subject pada gambar adalah\n",
      "Male\n"
     ]
    }
   ],
   "source": [
    "#Proses Testing/Prediksi\n",
    "print(\"Testing...\")\n",
    "#mengakses gambar yg akan diprediksi\n",
    "test_img1 = cv2.imread(\"Data-Training/female/anpage/anpage.1.jpg\") #gambar dari training data\n",
    "test_img2 = cv2.imread(\"Data-Training/male/ajflem/ajflem1.jpg\") #gambar dari training data\n",
    "test_img3 = cv2.imread(\"test-data/prabowo_2.jpg\") #gambar dari data test\n",
    "test_img4 = cv2.imread(\"test-data/pakde_1.jpg\") #gambar dari data test\n",
    "#test_img5 = cv2.imread(\"data-test/CR7.jpg\") #gambar dari data test yang tidak ada di training\n",
    "#test_img6 = cv2.imread(\"data-test/Trump.jpg\") #gambar dari data test yang tidak ada di training\n",
    "\n",
    "print(\"Result:\")\n",
    "#memanggil fungsi testing\n",
    "hasiltesting1, label_text1 = testing(test_img1)\n",
    "#hasiltesting2, label_text2 = testing(test_img2)\n",
    "hasiltesting3, label_text3 = testing(test_img3)\n",
    "hasiltesting4, label_text4 = testing(test_img4)\n",
    "#hasiltesting5, label_text5 = testing(test_img5)\n",
    "#hasiltesting6, label_text6 = testing(test_img6)\n",
    "#menampilkan hasil prediksi\n",
    "cv2.imshow ((label_text1+\" (dari training data)\"), hasiltesting1)\n",
    "#cv2.imshow ((label_text2+\" (dari training data)\"), hasiltesting2)\n",
    "cv2.imshow ((label_text3+\" (dari data test)\"), hasiltesting3)\n",
    "cv2.imshow ((label_text4+\" (dari data test)\"), hasiltesting4)\n",
    "#cv2.imshow ((label_text5+\" (wajah yang tidak ditraining)\"), hasiltesting5)\n",
    "#cv2.imshow ((label_text6+\" (wajah yang tidak ditraining)\"), hasiltesting6)\n",
    "\n",
    "#mengakhiri program\n",
    "cv2.waitKey(0)\n",
    "cv2.destroyAllWindows()\n"
   ]
  },
  {
   "cell_type": "code",
   "execution_count": null,
   "metadata": {},
   "outputs": [],
   "source": []
  },
  {
   "cell_type": "code",
   "execution_count": null,
   "metadata": {},
   "outputs": [],
   "source": []
  }
 ],
 "metadata": {
  "kernelspec": {
   "display_name": "Python 3",
   "language": "python",
   "name": "python3"
  },
  "language_info": {
   "codemirror_mode": {
    "name": "ipython",
    "version": 3
   },
   "file_extension": ".py",
   "mimetype": "text/x-python",
   "name": "python",
   "nbconvert_exporter": "python",
   "pygments_lexer": "ipython3",
   "version": "3.6.6"
  }
 },
 "nbformat": 4,
 "nbformat_minor": 2
}
