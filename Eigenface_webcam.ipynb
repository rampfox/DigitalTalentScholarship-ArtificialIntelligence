{
 "cells": [
  {
   "cell_type": "code",
   "execution_count": 1,
   "metadata": {},
   "outputs": [],
   "source": [
    "import os\n",
    "import cv2\n",
    "import numpy as np"
   ]
  },
  {
   "cell_type": "code",
   "execution_count": 2,
   "metadata": {},
   "outputs": [],
   "source": [
    "#Label untuk kelas image\n",
    "subjects = [\"\",\"Female\",\"Male\"]"
   ]
  },
  {
   "cell_type": "code",
   "execution_count": 3,
   "metadata": {},
   "outputs": [],
   "source": [
    "#fungsi untuk mendeteksi wajah menggunakan openCV\n",
    "def detect_face(img):\n",
    "    gray = cv2.cvtColor(img, cv2.COLOR_BGR2GRAY)#konversi gambar dari RGB to Greyscale\n",
    "    #mengakses file .xml untuk metode LBP pada oprenCV\n",
    "    face_cascade = cv2.CascadeClassifier('/Users/Alwi/Desktop/DIP/Fisher face/lbpcascade_frontalface.xml')\n",
    "    #mendeteksi multiscale image hasil keluaran berupa wajah yang terdeteksi\n",
    "    faces = face_cascade.detectMultiScale(gray, scaleFactor=1.2, minNeighbors=5);\n",
    "    #if no faces are detected then return original img\n",
    "    if (len(faces) == 0): #jika pada gambar tidak terdeteksi bentuk wajah maka return \"none\" \n",
    "        return None, None\n",
    "    x, y, w, h = faces[0] #mengekstrak area dari wajah\n",
    "    return gray[y:y+h, x:x+w] , faces[0] #yang diambil dari gambar hanyalah wajah "
   ]
  },
  {
   "cell_type": "code",
   "execution_count": 4,
   "metadata": {},
   "outputs": [],
   "source": [
    "def prepare_training_data(data_folder_path): #fungsi untuk mempersiapkan training data\n",
    "    folder1 = os.listdir(data_folder_path) #mengakses folder yg berisi dataset training\n",
    "    faces = [] #list face\n",
    "    labels = [] #list label\n",
    "     #mengakses gambar-gambar yg ada pada folder Data-Training\n",
    "    for dirs in folder1:\n",
    "        if dirs.startswith(\"f\") or dirs.startswith(\"m\"):\n",
    "            if dirs == \"female\" :\n",
    "                label = 1\n",
    "            else:\n",
    "                label = 2\n",
    "            dir_path = data_folder_path + \"/\" + dirs\n",
    "            folder2 = os.listdir (dir_path)\n",
    "            for dir_name in folder2: #mengakses gambar-gambar yg ada pada folder female / folder male\n",
    "                subject_dir_path = data_folder_path + \"/\" + dirs + \"/\" + dir_name\n",
    "                subject_images_names = os.listdir(subject_dir_path)\n",
    "                for image_name in subject_images_names: #mengakses setiap gambar\n",
    "                    if image_name.startswith(\".\"):\n",
    "                        continue;\n",
    "                    #image path = Data-Training\\female\\anpage\\anpage.1.jpg\n",
    "                    image_path = subject_dir_path + \"/\" + image_name\n",
    "\n",
    "                    #membuka gambar sesuai image_path\n",
    "                    image = cv2.imread(image_path)\n",
    "\n",
    "                    #menampilkan gambar\n",
    "                    cv2.imshow(\"Training on image...\", image)\n",
    "                    cv2.waitKey(100)\n",
    "\n",
    "                    #memanggil fungsi deteksi wajah\n",
    "                    face, rect = detect_face(image)\n",
    "        \n",
    "                    if face is not None: \n",
    "                        faceresize = cv2.resize(face, (100, 100)) #resize gambar training\n",
    "                        #membuat array face dan label\n",
    "                        faces.append(faceresize)\n",
    "                        labels.append(label)\n",
    "        else:\n",
    "            continue;\n",
    "    #menutup jendela yg kebuka pada saat fungsi persiapan training data berjalan\n",
    "    cv2.destroyAllWindows()\n",
    "    cv2.waitKey(1)\n",
    "    cv2.destroyAllWindows()\n",
    " \n",
    "    return faces, labels"
   ]
  },
  {
   "cell_type": "code",
   "execution_count": 5,
   "metadata": {},
   "outputs": [],
   "source": [
    "def draw_rectangle(img, rect): #membuat bound box bentuk segiempat pada muka yg terdeteksi\n",
    "    (x, y, w, h) = rect\n",
    "    cv2.rectangle(img, (x, y), (x+w, y+h), (0, 255, 0), 2)\n",
    "\n",
    "def draw_text(img, text, x, y): #menampilkan text label pada muka yg terdeteksi sesuai posisi (x,y)\n",
    "    cv2.putText(img, text, (x, y), cv2.FONT_HERSHEY_PLAIN, 1.5, (0, 255, 0), 2)"
   ]
  },
  {
   "cell_type": "code",
   "execution_count": 6,
   "metadata": {},
   "outputs": [
    {
     "name": "stdout",
     "output_type": "stream",
     "text": [
      "Preparing data...\n"
     ]
    },
    {
     "ename": "error",
     "evalue": "OpenCV(3.4.3) /Users/travis/build/skvark/opencv-python/opencv/modules/objdetect/src/cascadedetect.cpp:1698: error: (-215:Assertion failed) !empty() in function 'detectMultiScale'\n",
     "output_type": "error",
     "traceback": [
      "\u001b[0;31m---------------------------------------------------------------------------\u001b[0m",
      "\u001b[0;31merror\u001b[0m                                     Traceback (most recent call last)",
      "\u001b[0;32m<ipython-input-6-dd72a58f2e1e>\u001b[0m in \u001b[0;36m<module>\u001b[0;34m\u001b[0m\n\u001b[1;32m      1\u001b[0m \u001b[0;31m#Proses Training Data. list labels dan faces punya ukuran yg sama, list face berisi wajah, list labels berupa nama kelas\u001b[0m\u001b[0;34m\u001b[0m\u001b[0;34m\u001b[0m\u001b[0m\n\u001b[1;32m      2\u001b[0m \u001b[0mprint\u001b[0m\u001b[0;34m(\u001b[0m\u001b[0;34m\"Preparing data...\"\u001b[0m\u001b[0;34m)\u001b[0m\u001b[0;34m\u001b[0m\u001b[0m\n\u001b[0;32m----> 3\u001b[0;31m \u001b[0mfaces\u001b[0m\u001b[0;34m,\u001b[0m \u001b[0mlabels\u001b[0m \u001b[0;34m=\u001b[0m \u001b[0mprepare_training_data\u001b[0m\u001b[0;34m(\u001b[0m\u001b[0;34m\"Data-Training\"\u001b[0m\u001b[0;34m)\u001b[0m \u001b[0;31m#memanggil fungsi untuk mempersiapkan data\u001b[0m\u001b[0;34m\u001b[0m\u001b[0m\n\u001b[0m\u001b[1;32m      4\u001b[0m \u001b[0mprint\u001b[0m\u001b[0;34m(\u001b[0m\u001b[0;34m\"Data prepared\"\u001b[0m\u001b[0;34m)\u001b[0m\u001b[0;34m\u001b[0m\u001b[0m\n\u001b[1;32m      5\u001b[0m \u001b[0;34m\u001b[0m\u001b[0m\n",
      "\u001b[0;32m<ipython-input-4-89206c551c59>\u001b[0m in \u001b[0;36mprepare_training_data\u001b[0;34m(data_folder_path)\u001b[0m\n\u001b[1;32m     29\u001b[0m \u001b[0;34m\u001b[0m\u001b[0m\n\u001b[1;32m     30\u001b[0m                     \u001b[0;31m#memanggil fungsi deteksi wajah\u001b[0m\u001b[0;34m\u001b[0m\u001b[0;34m\u001b[0m\u001b[0m\n\u001b[0;32m---> 31\u001b[0;31m                     \u001b[0mface\u001b[0m\u001b[0;34m,\u001b[0m \u001b[0mrect\u001b[0m \u001b[0;34m=\u001b[0m \u001b[0mdetect_face\u001b[0m\u001b[0;34m(\u001b[0m\u001b[0mimage\u001b[0m\u001b[0;34m)\u001b[0m\u001b[0;34m\u001b[0m\u001b[0m\n\u001b[0m\u001b[1;32m     32\u001b[0m \u001b[0;34m\u001b[0m\u001b[0m\n\u001b[1;32m     33\u001b[0m                     \u001b[0;32mif\u001b[0m \u001b[0mface\u001b[0m \u001b[0;32mis\u001b[0m \u001b[0;32mnot\u001b[0m \u001b[0;32mNone\u001b[0m\u001b[0;34m:\u001b[0m\u001b[0;34m\u001b[0m\u001b[0m\n",
      "\u001b[0;32m<ipython-input-3-711a94fb76cd>\u001b[0m in \u001b[0;36mdetect_face\u001b[0;34m(img)\u001b[0m\n\u001b[1;32m      5\u001b[0m     \u001b[0mface_cascade\u001b[0m \u001b[0;34m=\u001b[0m \u001b[0mcv2\u001b[0m\u001b[0;34m.\u001b[0m\u001b[0mCascadeClassifier\u001b[0m\u001b[0;34m(\u001b[0m\u001b[0;34m'C:/Users/CaturwahyuRP/Anaconda3/Library/etc/lbpcascades/lbpcascade_frontalface.xml'\u001b[0m\u001b[0;34m)\u001b[0m\u001b[0;34m\u001b[0m\u001b[0m\n\u001b[1;32m      6\u001b[0m     \u001b[0;31m#mendeteksi multiscale image hasil keluaran berupa wajah yang terdeteksi\u001b[0m\u001b[0;34m\u001b[0m\u001b[0;34m\u001b[0m\u001b[0m\n\u001b[0;32m----> 7\u001b[0;31m     \u001b[0mfaces\u001b[0m \u001b[0;34m=\u001b[0m \u001b[0mface_cascade\u001b[0m\u001b[0;34m.\u001b[0m\u001b[0mdetectMultiScale\u001b[0m\u001b[0;34m(\u001b[0m\u001b[0mgray\u001b[0m\u001b[0;34m,\u001b[0m \u001b[0mscaleFactor\u001b[0m\u001b[0;34m=\u001b[0m\u001b[0;36m1.2\u001b[0m\u001b[0;34m,\u001b[0m \u001b[0mminNeighbors\u001b[0m\u001b[0;34m=\u001b[0m\u001b[0;36m5\u001b[0m\u001b[0;34m)\u001b[0m\u001b[0;34m;\u001b[0m\u001b[0;34m\u001b[0m\u001b[0m\n\u001b[0m\u001b[1;32m      8\u001b[0m     \u001b[0;31m#if no faces are detected then return original img\u001b[0m\u001b[0;34m\u001b[0m\u001b[0;34m\u001b[0m\u001b[0m\n\u001b[1;32m      9\u001b[0m     \u001b[0;32mif\u001b[0m \u001b[0;34m(\u001b[0m\u001b[0mlen\u001b[0m\u001b[0;34m(\u001b[0m\u001b[0mfaces\u001b[0m\u001b[0;34m)\u001b[0m \u001b[0;34m==\u001b[0m \u001b[0;36m0\u001b[0m\u001b[0;34m)\u001b[0m\u001b[0;34m:\u001b[0m \u001b[0;31m#jika pada gambar tidak terdeteksi bentuk wajah maka return \"none\"\u001b[0m\u001b[0;34m\u001b[0m\u001b[0m\n",
      "\u001b[0;31merror\u001b[0m: OpenCV(3.4.3) /Users/travis/build/skvark/opencv-python/opencv/modules/objdetect/src/cascadedetect.cpp:1698: error: (-215:Assertion failed) !empty() in function 'detectMultiScale'\n"
     ]
    }
   ],
   "source": [
    "#Proses Training Data. list labels dan faces punya ukuran yg sama, list face berisi wajah, list labels berupa nama kelas\n",
    "print(\"Preparing data...\")\n",
    "faces, labels = prepare_training_data(\"Data-Training\") #memanggil fungsi untuk mempersiapkan data\n",
    "print(\"Data prepared\")\n",
    " \n",
    "#melihat jumlah face dan label pada training data\n",
    "print(\"Total faces: \", len(faces))\n",
    "print(\"Total labels: \", len(labels))\n",
    "face_recognizer =  cv2.face.EigenFaceRecognizer_create() #melakukan face recognition menggunakan metode eigenface\n",
    "face_recognizer.train(faces, np.array(labels))"
   ]
  },
  {
   "cell_type": "code",
   "execution_count": null,
   "metadata": {},
   "outputs": [],
   "source": [
    "def testing(image):\n",
    "    img = image.copy() #copy gambar agar gambar asli tidak berubah\n",
    "    #mendeteksi wajah\n",
    "    face, rect = detect_face(img)\n",
    "    face = cv2.resize(face, (100, 100)) #resize gambar agar sesuai dengan size gambar pada training data \n",
    "    label= face_recognizer.predict(face) #prediksi wajah yang terdeteksi masuk kedalam subject female/male\n",
    "    print(label)\n",
    "    label_text = subjects[label[0]]#mengakses array subjects untuk mendapat label text dari wajah yg sudah terprediksi\n",
    "    print (\"Gender pada gambar adalah\\n\"+label_text)\n",
    "    draw_rectangle(img, rect)#drawing bound pada wajah yang terdeteksi\n",
    "    draw_text(img, label_text, rect[0], rect[1]-5) #draw label text pada wajah yang terdeteksi\n",
    "    return img, label_text"
   ]
  },
  {
   "cell_type": "code",
   "execution_count": null,
   "metadata": {},
   "outputs": [],
   "source": [
    "#Proses Testing/Prediksi Menggunakan Foto-Foto\n",
    "print(\"Testing...\")\n",
    "#mengakses gambar yg akan diprediksi\n",
    "test_img1 = cv2.imread(\"Data-Training/female/anpage/anpage.1.jpg\") #gambar dari training data\n",
    "test_img2 = cv2.imread(\"Data-Training/male/ajflem/ajflem1.jpg\") #gambar dari training data\n",
    "test_img3 = cv2.imread(\"test-data/prabowo_2.jpg\") #gambar dari data test\n",
    "test_img4 = cv2.imread(\"test-data/pakde_1.jpg\") #gambar dari data test\\\n",
    "#test_img5 = cv2.imread(\"data-test/rupert.jpg\") #gambar dari data test\n",
    "\n",
    "print(\"Result:\")\n",
    "#memanggil fungsi testing\n",
    "hasiltesting1, label_text1 = testing(test_img1)\n",
    "hasiltesting2, label_text2 = testing(test_img2)\n",
    "hasiltesting3, label_text3 = testing(test_img3)\n",
    "hasiltesting4, label_text4 = testing(test_img4)\n",
    "hasiltesting5, label_text5 = testing(test_img5)\n",
    "#menampilkan hasil prediksi\n",
    "cv2.imshow ((\"gambar ke 1 (\"+label_text1+\")\"), hasiltesting1)\n",
    "cv2.imshow ((\"gambar ke 2 (\"+label_text2+\")\"), hasiltesting2)\n",
    "cv2.imshow ((\"gambar ke 3 (\"+label_text3+\")\"), hasiltesting3)\n",
    "cv2.imshow ((\"gambar ke 4 (\"+label_text4+\")\"), hasiltesting4)\n",
    "cv2.imshow ((\"gambar ke 5 (\"+label_text5+\")\"), hasiltesting5)\n",
    "\n",
    "#mengakhiri program\n",
    "cv2.waitKey(0)\n",
    "cv2.destroyAllWindows()\n"
   ]
  },
  {
   "cell_type": "code",
   "execution_count": null,
   "metadata": {},
   "outputs": [],
   "source": [
    "cv2.waitKey(0)\n",
    "cv2.destroyAllWindows()"
   ]
  },
  {
   "cell_type": "code",
   "execution_count": null,
   "metadata": {},
   "outputs": [],
   "source": [
    "#Proses Testing/Prediksi Menggunakan Web Camera\n",
    "video_capture = cv2.VideoCapture(0) #menyalakan webcamera\n",
    "#mengakses file .xml untuk metode LBP pada openCV\n",
    "cascade = cv2.CascadeClassifier('/Users/Alwi/Desktop/DIP/Fisher face/lbpcascade_frontalface.xml')\n",
    "while True:\n",
    "    ret, frame = video_capture.read() #Mengcapture frame-frame video\n",
    "    converted = cv2.cvtColor(frame,cv2.COLOR_BGR2GRAY) #konversi dari RGB to GRAYSCALE\n",
    "    resize = cv2.resize(converted, (100, 100)) #resize frame\n",
    "    faces = cascade.detectMultiScale(converted, 1.3, 5) #detect wajah\n",
    "    for(x, y, w, h) in faces: \n",
    "        frame = cv2.rectangle(frame, (x,y),(x+w, y+h),(0,255,0),2) #Draw bounding box berbentuk persegi\n",
    "        label = face_recognizer.predict(resize) #melakukan prediksi male/female\n",
    "        label_text = subjects[label[0]] #memberi label female/male sesuai hasil prediksi\n",
    "        frame = cv2.putText(frame,label_text,(x,y), cv2.FONT_HERSHEY_SIMPLEX, 1.5,(0,255,0),2) #menuliskan label pada frame\n",
    "    cv2.imshow('video jadi', frame) #menampilkan video hasil deteksi\n",
    "    \n",
    "    if cv2.waitKey(1) & 0xFF == ord('q'): #Interrupt untuk mengakhiri program\n",
    "        break\n",
    "#mengakhiri program\n",
    "video_capture.release()\n",
    "cv2.destroyAllWindows()\n",
    "del(video_capture)"
   ]
  },
  {
   "cell_type": "code",
   "execution_count": null,
   "metadata": {},
   "outputs": [],
   "source": []
  }
 ],
 "metadata": {
  "kernelspec": {
   "display_name": "Python 3",
   "language": "python",
   "name": "python3"
  },
  "language_info": {
   "codemirror_mode": {
    "name": "ipython",
    "version": 3
   },
   "file_extension": ".py",
   "mimetype": "text/x-python",
   "name": "python",
   "nbconvert_exporter": "python",
   "pygments_lexer": "ipython3",
   "version": "3.6.6"
  }
 },
 "nbformat": 4,
 "nbformat_minor": 2
}
